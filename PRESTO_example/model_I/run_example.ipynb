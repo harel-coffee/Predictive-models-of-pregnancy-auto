{
 "cells": [
  {
   "cell_type": "code",
   "execution_count": 1,
   "metadata": {},
   "outputs": [
    {
     "name": "stdout",
     "output_type": "stream",
     "text": [
      "Enter Menstrual cycle length (days): 25\n",
      "Enter Female age at baseline (years): 25\n",
      "Enter 1 if Urbanization of residential area is rural, otherwise enter 0:  0\n",
      "Enter 1 if Previously tried to conceive for ≥12 months, otherwise enter 0:  0\n",
      "Enter 1 if One menstrual cycle of attempt time at study entry, otherwise enter 0: 0\n",
      "Enter 1 if Daily use of multivitamins/folic acid, otherwise enter 0: 0\n",
      "Enter 1 if Last method of contraception: hormonal IUD, otherwise enter 0: 0\n",
      "Enter Female BMI (kg/m2): 25\n",
      "Enter 1 if Ever breastfed an infant, otherwise enter 0: 0\n",
      "Enter 1 if Ever been pregnant, otherwise enter 0: 0\n",
      "Enter Female education (years): 25\n",
      "Enter 1 if Received influenza vaccine in the past year, otherwise enter 0: 0\n",
      "Enter Stress (Perceived Stress Scale score): 15\n",
      "Enter Total number of pregnancies: 0\n",
      "Enter 1 if Urbanization of residential area is Canada, otherwise enter 0:  0\n",
      "Enter 1 if Urbanization of residential area is urban cluster, otherwise enter 0:  0\n",
      "Enter 1 if the answer to question (Previously tried to conceive for ≥12 months) is “no, never tried before” (ref = “no, tried for < 12 months”), otherwise enter 0: 0\n",
      "\n",
      "The probability of pregnancy within 12 menstural cycles of pregnancy attempt time is: 0.63\n"
     ]
    }
   ],
   "source": [
    "from PRESTO_example_probability_function import pregnancy_probability\n",
    "pregnancy_probability()\n",
    "# Here, you are asked to enter the subject's data one by one\n",
    "# Enter each data and press Enter key\n",
    "# At the end, the probability of pregnancy within 12 menstural cycles of pregnancy attempt time will be shown.\n",
    "# This result is derived by the L2LR algorithm of the model_I (parsimonious)."
   ]
  },
  {
   "cell_type": "code",
   "execution_count": null,
   "metadata": {},
   "outputs": [],
   "source": []
  }
 ],
 "metadata": {
  "kernelspec": {
   "display_name": "Python 3",
   "language": "python",
   "name": "python3"
  },
  "language_info": {
   "codemirror_mode": {
    "name": "ipython",
    "version": 3
   },
   "file_extension": ".py",
   "mimetype": "text/x-python",
   "name": "python",
   "nbconvert_exporter": "python",
   "pygments_lexer": "ipython3",
   "version": "3.7.6"
  }
 },
 "nbformat": 4,
 "nbformat_minor": 2
}
