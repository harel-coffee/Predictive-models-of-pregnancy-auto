{
 "cells": [
  {
   "cell_type": "code",
   "execution_count": 1,
   "metadata": {},
   "outputs": [
    {
     "name": "stdout",
     "output_type": "stream",
     "text": [
      "Enter Female BMI (kg/m2): 25\n",
      "Enter 1 if Daily use of multivitamins/folic acid, otherwise enter 0: 0\n",
      "Enter 1 if Ever breastfed an infant, otherwise enter 0: 0\n",
      "Enter 1 if Previously tried to conceive for ≥12 months, otherwise enter 0:  0\n",
      "Enter total Healthy Eating Index HEI-2010 score:65\n",
      "Enter partner age at baseline (years): 25\n",
      "Enter 1 if there is no use a fertility app but they plan to use, otherwise enter 0: 0\n",
      "Enter 1 if there is a history of unplanned pregnancy, otherwise enter 0: 0\n",
      "Enter Combined male BMI (male and female reported): 25\n",
      "Enter 1 if One menstrual cycle of attempt time at study entry, otherwise enter 0: 0\n",
      "Enter 1 if the answer to question (Partner current smoke) is “Yes, regular basis” , otherwise enter 0: 0\n",
      "Enter Female age at baseline (years): 25\n",
      "Enter 1 if trying methods to improve pregnancy chances, otherwise enter 0: 0\n",
      "Enter 1 if there is 0 years since last pregnancy, otherwise enter 0: 0\n",
      "Enter 1 if there is a history of subfertility or infertility, otherwise enter 0: 0\n",
      "Enter 1 if the answer to question (Previously tried to conceive for ≥12 months) is “no, never tried before” , otherwise enter 0: 0\n",
      "Enter 1 if there are 1-2 years since last pregnancy, otherwise enter 0: 0\n",
      "Enter 1 if the answer to question (Partner current smoke) is “Yes, occasionally” , otherwise enter 0: 0\n",
      "Enter 1 if there are >= 5 years since last pregnancy, otherwise enter 0: 0\n",
      "Enter 1 if there is no use a fertility app and they do not plan to use, otherwise enter 0: 0\n",
      "Enter 1 if there are 3-4 years since last pregnancy, otherwise enter 0: 0\n",
      "\n",
      "The probability of pregnancy within 6 menstural cycles of pregnancy attempt time is: 0.52\n"
     ]
    }
   ],
   "source": [
    "from PRESTO_example_probability_function_model_II import pregnancy_probability\n",
    "pregnancy_probability()\n",
    "# Here, you are asked to enter the subject's data one by one\n",
    "# Enter each data and press Enter key\n",
    "# At the end, the probability of pregnancy within 6 menstural cycles of pregnancy attempt time will be shown.\n",
    "# This result is derived by the L2LR algorithm of the model_I (parsimonious)."
   ]
  },
  {
   "cell_type": "code",
   "execution_count": null,
   "metadata": {},
   "outputs": [],
   "source": []
  }
 ],
 "metadata": {
  "kernelspec": {
   "display_name": "Python 3",
   "language": "python",
   "name": "python3"
  },
  "language_info": {
   "codemirror_mode": {
    "name": "ipython",
    "version": 3
   },
   "file_extension": ".py",
   "mimetype": "text/x-python",
   "name": "python",
   "nbconvert_exporter": "python",
   "pygments_lexer": "ipython3",
   "version": "3.7.6"
  }
 },
 "nbformat": 4,
 "nbformat_minor": 2
}
